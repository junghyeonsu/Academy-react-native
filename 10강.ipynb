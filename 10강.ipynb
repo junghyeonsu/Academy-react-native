{
  "nbformat": 4,
  "nbformat_minor": 0,
  "metadata": {
    "colab": {
      "name": "10강.ipynb",
      "provenance": [],
      "authorship_tag": "ABX9TyPB/pOVVm1G120v42Bfpkyd",
      "include_colab_link": true
    },
    "kernelspec": {
      "name": "python3",
      "display_name": "Python 3"
    }
  },
  "cells": [
    {
      "cell_type": "markdown",
      "metadata": {
        "id": "view-in-github",
        "colab_type": "text"
      },
      "source": [
        "<a href=\"https://colab.research.google.com/github/junghyeonsu/Academy-react-native/blob/master/10%EA%B0%95.ipynb\" target=\"_parent\"><img src=\"https://colab.research.google.com/assets/colab-badge.svg\" alt=\"Open In Colab\"/></a>"
      ]
    },
    {
      "cell_type": "code",
      "metadata": {
        "id": "0f268nEIEOIV",
        "colab_type": "code",
        "colab": {}
      },
      "source": [
        "import tensorflow.compat.v1 as tf\n",
        "tf.disable_resource_variables()\n",
        "tf.set_random_seed(777)"
      ],
      "execution_count": 0,
      "outputs": []
    },
    {
      "cell_type": "code",
      "metadata": {
        "id": "m49b2zuBGCms",
        "colab_type": "code",
        "colab": {
          "base_uri": "https://localhost:8080/",
          "height": 36
        },
        "outputId": "36b71b45-d0d3-408f-87a2-7bdf70830242"
      },
      "source": [
        "from google.colab import drive\n",
        "drive.mount('/content/gdrive')"
      ],
      "execution_count": 27,
      "outputs": [
        {
          "output_type": "stream",
          "text": [
            "Drive already mounted at /content/gdrive; to attempt to forcibly remount, call drive.mount(\"/content/gdrive\", force_remount=True).\n"
          ],
          "name": "stdout"
        }
      ]
    },
    {
      "cell_type": "code",
      "metadata": {
        "id": "FuTCzlAXHYcr",
        "colab_type": "code",
        "colab": {
          "base_uri": "https://localhost:8080/",
          "height": 951
        },
        "outputId": "85709a9b-d3e4-4747-d970-a75dbe4c3287"
      },
      "source": [
        "xy = np.loadtxt('/content/gdrive/My Drive/Colab Notebooks/data-01-test-score.csv', delimiter=',', dtype=np.float32)\n",
        "\n",
        "x_data = xy[:,0:-1] # 0~2열을 가져와라\n",
        "y_data = xy[:, [-1]] # 마지막 열을 가져와라\n",
        "\n",
        "print(x_data)\n",
        "print(y_data)"
      ],
      "execution_count": 29,
      "outputs": [
        {
          "output_type": "stream",
          "text": [
            "[[ 73.  80.  75.]\n",
            " [ 93.  88.  93.]\n",
            " [ 89.  91.  90.]\n",
            " [ 96.  98. 100.]\n",
            " [ 73.  66.  70.]\n",
            " [ 53.  46.  55.]\n",
            " [ 69.  74.  77.]\n",
            " [ 47.  56.  60.]\n",
            " [ 87.  79.  90.]\n",
            " [ 79.  70.  88.]\n",
            " [ 69.  70.  73.]\n",
            " [ 70.  65.  74.]\n",
            " [ 93.  95.  91.]\n",
            " [ 79.  80.  73.]\n",
            " [ 70.  73.  78.]\n",
            " [ 93.  89.  96.]\n",
            " [ 78.  75.  68.]\n",
            " [ 81.  90.  93.]\n",
            " [ 88.  92.  86.]\n",
            " [ 78.  83.  77.]\n",
            " [ 82.  86.  90.]\n",
            " [ 86.  82.  89.]\n",
            " [ 78.  83.  85.]\n",
            " [ 76.  83.  71.]\n",
            " [ 96.  93.  95.]]\n",
            "[[152.]\n",
            " [185.]\n",
            " [180.]\n",
            " [196.]\n",
            " [142.]\n",
            " [101.]\n",
            " [149.]\n",
            " [115.]\n",
            " [175.]\n",
            " [164.]\n",
            " [141.]\n",
            " [141.]\n",
            " [184.]\n",
            " [152.]\n",
            " [148.]\n",
            " [192.]\n",
            " [147.]\n",
            " [183.]\n",
            " [177.]\n",
            " [159.]\n",
            " [177.]\n",
            " [175.]\n",
            " [175.]\n",
            " [149.]\n",
            " [192.]]\n"
          ],
          "name": "stdout"
        }
      ]
    },
    {
      "cell_type": "code",
      "metadata": {
        "id": "FHTWsz6DLAro",
        "colab_type": "code",
        "colab": {}
      },
      "source": [
        "X = tf.placeholder(tf.float32, shape=[None, 3]) #개수는 몇개가져올지 모르겠고~ (None), 열은 3개야!\n",
        "Y = tf.placeholder(tf.float32, shape=[None, 1]) #개수는 몇개가져올지 모르겠고~ (None), 열은 하나야! \n",
        "\n",
        "W = tf.Variable(tf.random_normal([3,1]), name='weight') # W는 3,1 행렬을 가진다! 왜? 3개의 '기준척도' 그리고 하나의 데이터!\n",
        "b = tf.Variable(tf.random_normal([1]), name ='bias')"
      ],
      "execution_count": 0,
      "outputs": []
    },
    {
      "cell_type": "code",
      "metadata": {
        "id": "pXW7TeGPLc6E",
        "colab_type": "code",
        "colab": {}
      },
      "source": [
        "hypothesis = tf.matmul(X,W) + b # matmul 은 매트릭스 곱하기를 뜻한다.\n",
        "\n",
        "cost = tf.reduce_mean(tf.square(hypothesis - Y)) #코스트 함수는 (가설 - 실제값)^2 의 평균!"
      ],
      "execution_count": 0,
      "outputs": []
    },
    {
      "cell_type": "markdown",
      "metadata": {
        "id": "ZkDfEcL3MQ1I",
        "colab_type": "text"
      },
      "source": [
        "옵티마이저는 텐서플로우의 함수를 이용해서 경사하강법을 쓴다!\n",
        "\n",
        "train은 cost를 최소화하는쪽으로 줄어들게된다!"
      ]
    },
    {
      "cell_type": "code",
      "metadata": {
        "id": "7_it8nZ0MEiP",
        "colab_type": "code",
        "colab": {}
      },
      "source": [
        "optimizer = tf.train.GradientDescentOptimizer(learning_rate=1e-5)\n",
        "train = optimizer.minimize(cost)"
      ],
      "execution_count": 0,
      "outputs": []
    },
    {
      "cell_type": "code",
      "metadata": {
        "id": "F6ClWj__MhSf",
        "colab_type": "code",
        "colab": {
          "base_uri": "https://localhost:8080/",
          "height": 1000
        },
        "outputId": "a2fdcb03-b271-4be9-9fa0-c1cb204378e5"
      },
      "source": [
        "sess = tf.Session()\n",
        "\n",
        "sess.run(tf.global_variables_initializer())\n",
        "\n",
        "for step in range(2001):\n",
        "  cost_val, hy_val, _ = sess.run(\n",
        "      [cost,hypothesis,train],\n",
        "      feed_dict={X:x_data, Y:y_data}\n",
        "  )\n",
        "\n",
        "  if step % 400 == 0:\n",
        "    print(\n",
        "        \"Step : \", step,\n",
        "        \"\\nCost : \", cost_val,\n",
        "        \"\\nPrediction : \",hy_val\n",
        "          )\n",
        "    print(\"\\n\")"
      ],
      "execution_count": 46,
      "outputs": [
        {
          "output_type": "stream",
          "text": [
            "Step :  0 \n",
            "Cost :  12285.612 \n",
            "Prediction :  [[52.488823]\n",
            " [55.98236 ]\n",
            " [58.799793]\n",
            " [65.84191 ]\n",
            " [39.16055 ]\n",
            " [30.272982]\n",
            " [53.536842]\n",
            " [45.972366]\n",
            " [52.58834 ]\n",
            " [51.687588]\n",
            " [47.600456]\n",
            " [44.313225]\n",
            " [58.921963]\n",
            " [45.836678]\n",
            " [52.875298]\n",
            " [59.121807]\n",
            " [39.249   ]\n",
            " [67.2888  ]\n",
            " [56.978317]\n",
            " [51.949444]\n",
            " [61.347282]\n",
            " [54.56272 ]\n",
            " [58.570843]\n",
            " [48.64899 ]\n",
            " [58.42142 ]]\n",
            "\n",
            "\n",
            "Step :  400 \n",
            "Cost :  15.472499 \n",
            "Prediction :  [[156.18835 ]\n",
            " [181.526   ]\n",
            " [182.03252 ]\n",
            " [200.05757 ]\n",
            " [135.1283  ]\n",
            " [101.140594]\n",
            " [153.75592 ]\n",
            " [119.897995]\n",
            " [170.13498 ]\n",
            " [160.65804 ]\n",
            " [144.4206  ]\n",
            " [140.18196 ]\n",
            " [186.24927 ]\n",
            " [151.7365  ]\n",
            " [153.69102 ]\n",
            " [186.44061 ]\n",
            " [140.3792  ]\n",
            " [187.35503 ]\n",
            " [178.22623 ]\n",
            " [160.34023 ]\n",
            " [178.99826 ]\n",
            " [172.28674 ]\n",
            " [170.66338 ]\n",
            " [153.22156 ]\n",
            " [188.38843 ]]\n",
            "\n",
            "\n",
            "Step :  800 \n",
            "Cost :  13.617057 \n",
            "Prediction :  [[155.8016 ]\n",
            " [181.8597 ]\n",
            " [181.94997]\n",
            " [199.96672]\n",
            " [135.5819 ]\n",
            " [101.56641]\n",
            " [153.46194]\n",
            " [119.34067]\n",
            " [170.63065]\n",
            " [161.18607]\n",
            " [144.3765 ]\n",
            " [140.49033]\n",
            " [186.17987]\n",
            " [151.73479]\n",
            " [153.51485]\n",
            " [186.70425]\n",
            " [140.6269 ]\n",
            " [186.81648]\n",
            " [178.03728]\n",
            " [160.08441]\n",
            " [178.7687 ]\n",
            " [172.54729]\n",
            " [170.37717]\n",
            " [152.8627 ]\n",
            " [188.60991]]\n",
            "\n",
            "\n",
            "Step :  1200 \n",
            "Cost :  12.134785 \n",
            "Prediction :  [[155.46283 ]\n",
            " [182.15715 ]\n",
            " [181.88051 ]\n",
            " [199.88487 ]\n",
            " [135.98886 ]\n",
            " [101.938736]\n",
            " [153.1933  ]\n",
            " [118.83081 ]\n",
            " [171.06424 ]\n",
            " [161.6366  ]\n",
            " [144.33418 ]\n",
            " [140.757   ]\n",
            " [186.12767 ]\n",
            " [151.74847 ]\n",
            " [153.34947 ]\n",
            " [186.9348  ]\n",
            " [140.8665  ]\n",
            " [186.32678 ]\n",
            " [177.88004 ]\n",
            " [159.86615 ]\n",
            " [178.55719 ]\n",
            " [172.77473 ]\n",
            " [170.11765 ]\n",
            " [152.56137 ]\n",
            " [188.81099 ]]\n",
            "\n",
            "\n",
            "Step :  1600 \n",
            "Cost :  10.947036 \n",
            "Prediction :  [[155.1656 ]\n",
            " [182.4225 ]\n",
            " [181.82204]\n",
            " [199.8111 ]\n",
            " [136.35416]\n",
            " [102.26482]\n",
            " [152.94795]\n",
            " [118.36482]\n",
            " [171.44408]\n",
            " [162.02144]\n",
            " [144.29385]\n",
            " [140.98793]\n",
            " [186.08926]\n",
            " [151.77357]\n",
            " [153.19485]\n",
            " [187.13667]\n",
            " [141.09618]\n",
            " [185.88164]\n",
            " [177.74918]\n",
            " [159.67972]\n",
            " [178.36264]\n",
            " [172.97359]\n",
            " [169.88231]\n",
            " [152.30823]\n",
            " [188.99347]]\n",
            "\n",
            "\n",
            "Step :  2000 \n",
            "Cost :  9.992655 \n",
            "Prediction :  [[154.90448]\n",
            " [182.65944]\n",
            " [181.7728 ]\n",
            " [199.74461]\n",
            " [136.68224]\n",
            " [102.55079]\n",
            " [152.72409]\n",
            " [117.93929]\n",
            " [171.77733]\n",
            " [162.35057]\n",
            " [144.25565]\n",
            " [141.18825]\n",
            " [186.06192]\n",
            " [151.80696]\n",
            " [153.05077]\n",
            " [187.31374]\n",
            " [141.3148 ]\n",
            " [185.47717]\n",
            " [177.64037]\n",
            " [159.52028]\n",
            " [178.18393]\n",
            " [173.14769]\n",
            " [169.66898]\n",
            " [152.09552]\n",
            " [189.15906]]\n",
            "\n",
            "\n"
          ],
          "name": "stdout"
        }
      ]
    },
    {
      "cell_type": "code",
      "metadata": {
        "id": "eytzAoMzNT34",
        "colab_type": "code",
        "colab": {
          "base_uri": "https://localhost:8080/",
          "height": 73
        },
        "outputId": "6dd8c119-1526-4fe7-f8b5-c8c39c54b4ff"
      },
      "source": [
        "print(\"너의 점수는\", sess.run(hypothesis, feed_dict={X:[[100,70,101]]}), \"일거야\")\n",
        "\n",
        "print(\"너의 점수는\", sess.run(hypothesis, feed_dict={X: [[1,1,1], [4,4,4]]}), \"일거야\")"
      ],
      "execution_count": 51,
      "outputs": [
        {
          "output_type": "stream",
          "text": [
            "너의 점수는 [[176.8839]] 일거야\n",
            "너의 점수는 [[0.71984386]\n",
            " [6.791006  ]] 일거야\n"
          ],
          "name": "stdout"
        }
      ]
    }
  ]
}